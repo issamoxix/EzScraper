{
 "cells": [
  {
   "cell_type": "code",
   "execution_count": 12,
   "source": [
    "import pandas as pd\r\n",
    "import requests as req \r\n",
    "from bs4 import BeautifulSoup as Bs"
   ],
   "outputs": [],
   "metadata": {}
  },
  {
   "cell_type": "code",
   "execution_count": 133,
   "source": [
    "#to DO\r\n",
    "#add file name option\r\n",
    "\r\n",
    "url = \"https://www.worldometers.info/coronavirus/\"\r\n",
    "def allTables(url,all=True,index=False):\r\n",
    "    res = req.get(url)\r\n",
    "    soup = Bs(res.text,'html.parser')\r\n",
    "    tables_elem = soup.find_all('table')\r\n",
    "    if index:\r\n",
    "        ParseTable(tables_elem[int(index)-1])\r\n",
    "        return 1\r\n",
    "    if all:\r\n",
    "        for i in tables_elem:\r\n",
    "            ParseTable(i)\r\n",
    "        return 1\r\n",
    "\r\n"
   ],
   "outputs": [],
   "metadata": {}
  },
  {
   "cell_type": "code",
   "execution_count": 125,
   "source": [
    "import datetime\r\n",
    "\r\n",
    "def ParseTable(tableOI):\r\n",
    "    table_rows_elem = tableOI.find_all('tr')\r\n",
    "    table_headers = []\r\n",
    "    for i in table_rows_elem:\r\n",
    "        if len(i.find_all('td')) == 0:\r\n",
    "            for th in i.find_all('th'):\r\n",
    "                table_headers.append(th.get_text())\r\n",
    "            continue\r\n",
    "    df = pd.DataFrame(columns=table_headers,index=None)\r\n",
    "    for i in table_rows_elem:\r\n",
    "        data = {}\r\n",
    "        if len(i.find_all('td')) != 0:\r\n",
    "            for td_index in range(0,len(i.find_all('td'))-1):\r\n",
    "                td = i.find_all('td')[td_index]\r\n",
    "                data[table_headers[td_index]] = td.get_text().strip()\r\n",
    "            df = df.append(data,ignore_index=True)\r\n",
    "        continue\r\n",
    "    name_file = f\"{datetime.datetime.now()}table_data\".replace('-','_').replace(':','_').strip()\r\n",
    "    df.to_csv(f'{name_file}.csv')\r\n",
    "    return 1\r\n"
   ],
   "outputs": [],
   "metadata": {}
  },
  {
   "cell_type": "code",
   "execution_count": 134,
   "source": [
    "allTables(url,all=False,index=1)"
   ],
   "outputs": [
    {
     "output_type": "execute_result",
     "data": {
      "text/plain": [
       "1"
      ]
     },
     "metadata": {},
     "execution_count": 134
    }
   ],
   "metadata": {}
  }
 ],
 "metadata": {
  "orig_nbformat": 4,
  "language_info": {
   "name": "python",
   "version": "3.9.2",
   "mimetype": "text/x-python",
   "codemirror_mode": {
    "name": "ipython",
    "version": 3
   },
   "pygments_lexer": "ipython3",
   "nbconvert_exporter": "python",
   "file_extension": ".py"
  },
  "kernelspec": {
   "name": "python3",
   "display_name": "Python 3.9.2 64-bit"
  },
  "interpreter": {
   "hash": "d075ff4378217f0e2c4eb2bf79b00e44abbc28f13543981b175c82dcc20caa48"
  }
 },
 "nbformat": 4,
 "nbformat_minor": 2
}